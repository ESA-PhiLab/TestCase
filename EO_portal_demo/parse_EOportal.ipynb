{
 "cells": [
  {
   "cell_type": "code",
   "execution_count": 3,
   "metadata": {},
   "outputs": [],
   "source": [
    "import json\n",
    "import numpy as np\n",
    "import pandas as  pd\n",
    "import glob\n",
    "import matplotlib.pyplot as plt"
   ]
  },
  {
   "cell_type": "code",
   "execution_count": 8,
   "metadata": {},
   "outputs": [],
   "source": [
    "json_files = glob.glob('../EoDirectoryMissionExport/**.json', recursive=True)\n"
   ]
  },
  {
   "cell_type": "code",
   "execution_count": 44,
   "metadata": {},
   "outputs": [
    {
     "data": {
      "text/plain": [
       "893"
      ]
     },
     "execution_count": 44,
     "metadata": {},
     "output_type": "execute_result"
    }
   ],
   "source": [
    "len(json_files)"
   ]
  },
  {
   "cell_type": "code",
   "execution_count": 67,
   "metadata": {},
   "outputs": [],
   "source": [
    "with open(json_files[56], 'r') as f:\n",
    "  data = json.load(f)"
   ]
  },
  {
   "attachments": {},
   "cell_type": "markdown",
   "metadata": {},
   "source": [
    "## test on single mission"
   ]
  },
  {
   "cell_type": "code",
   "execution_count": 68,
   "metadata": {},
   "outputs": [],
   "source": [
    "mission = data['mission']\n",
    "content = data['content']\n",
    "chapters = data['chapters']\n",
    "chapters = [ch.strip() for ch in chapters]"
   ]
  },
  {
   "cell_type": "code",
   "execution_count": 69,
   "metadata": {},
   "outputs": [
    {
     "data": {
      "text/plain": [
       "'GSSAP'"
      ]
     },
     "execution_count": 69,
     "metadata": {},
     "output_type": "execute_result"
    }
   ],
   "source": [
    "mission"
   ]
  },
  {
   "cell_type": "code",
   "execution_count": 70,
   "metadata": {},
   "outputs": [
    {
     "data": {
      "text/plain": [
       "['GSSAP (Geosynchronous Space Situational Awareness Program)',\n",
       " 'Spacecraft:',\n",
       " 'Payload:',\n",
       " 'ANGELS (Automated Navigation and Guidance Experiment for Local Space)',\n",
       " 'Status of mission:']"
      ]
     },
     "execution_count": 70,
     "metadata": {},
     "output_type": "execute_result"
    }
   ],
   "source": [
    "chapters"
   ]
  },
  {
   "cell_type": "code",
   "execution_count": 71,
   "metadata": {},
   "outputs": [
    {
     "name": "stdout",
     "output_type": "stream",
     "text": [
      "GSSAP (Geosynchronous Space Situational Awareness Program)\n",
      "Spacecraft:\n",
      "Payload:\n",
      "ANGELS (Automated Navigation and Guidance Experiment for Local Space)\n",
      "Status of mission:\n"
     ]
    }
   ],
   "source": [
    "chapter_idx = []\n",
    "for k,line in enumerate(content):\n",
    "    if any(line[:-5] in ch for ch in chapters):\n",
    "        chapter_idx.append(k)\n",
    "        print(line)\n"
   ]
  },
  {
   "cell_type": "code",
   "execution_count": 72,
   "metadata": {},
   "outputs": [
    {
     "data": {
      "text/plain": [
       "(5, 5)"
      ]
     },
     "execution_count": 72,
     "metadata": {},
     "output_type": "execute_result"
    }
   ],
   "source": [
    "len(chapter_idx), len(chapters)"
   ]
  },
  {
   "cell_type": "code",
   "execution_count": 73,
   "metadata": {},
   "outputs": [
    {
     "data": {
      "text/plain": [
       "[0, 6, 14, 16, 19]"
      ]
     },
     "execution_count": 73,
     "metadata": {},
     "output_type": "execute_result"
    }
   ],
   "source": [
    "chapter_idx"
   ]
  },
  {
   "cell_type": "code",
   "execution_count": 82,
   "metadata": {},
   "outputs": [],
   "source": [
    "chapter_content = []\n",
    "for i in range(len(chapter_idx)-1):\n",
    "    chapter_content.append('\\n'.join(content[chapter_idx[i]+1:chapter_idx[i+1]])+ f'\\nSOURCE: {mission} chapter {content[chapter_idx[i]]}')\n",
    "chapter_content.append(content[chapter_idx[-1]+1:])"
   ]
  },
  {
   "cell_type": "code",
   "execution_count": 83,
   "metadata": {},
   "outputs": [
    {
     "data": {
      "text/plain": [
       "'The two GSSAP spacecraft were built by Orbital ATK of Dulles, VA, as prime contractor. Exact details on the satellites and their payloads have not been provided.\\nWith a mass estimated on the order of 650 to 700kg, each GSSAP satellite likely carries a significant amount of propellant, most likely using a hydrazine monopropellant propulsion system to make frequent orbit adjustments and perform stationkeeping maneuvers when operational requirements call for the satellite to drift to or stay at a new location. Small impulse burns will set the satellite up to observe chosen targets by setting up favorable passes below or above the satellite of interest at a low relative speed.\\nPower generation is accomplished using two deployable solar arrays while a high-rate communications system provides the secure downlink of acquired SSA sensor data.\\nIt can be expected that one GSSAP satellite operates in a drift orbit above GEO while the other orbits below the GEO altitude.\\nLaunch: The GSSAP-1 and GSSAP-2 spacecraft were launched on July 28, 2014 on a Delta-4M+(4,2) vehicle of ULA (United Launch Alliance) from Cape Canaveral (SLC-37B), FL.\\nOrbit: Geosynchronous orbit, altitude of ~35970 km, location ?, inclination = ?\\nLaunch: The second pair of GSSAP-3 and GSSAP-4 satellites were launched on August 19, 2016 (04:52 GMT) on a Delta-4M+(4,2) vehicle of ULA (United Launch Alliance) from Cape Canaveral (SLC-37B), FL.\\nSOURCE: GSSAP chapter Spacecraft:'"
      ]
     },
     "execution_count": 83,
     "metadata": {},
     "output_type": "execute_result"
    }
   ],
   "source": [
    "chapter_content[1]"
   ]
  },
  {
   "cell_type": "code",
   "execution_count": null,
   "metadata": {},
   "outputs": [],
   "source": []
  },
  {
   "attachments": {},
   "cell_type": "markdown",
   "metadata": {},
   "source": [
    "## process all jsons"
   ]
  },
  {
   "cell_type": "code",
   "execution_count": 84,
   "metadata": {},
   "outputs": [],
   "source": [
    "json_files = glob.glob('../EoDirectoryMissionExport/**.json', recursive=True)\n"
   ]
  },
  {
   "cell_type": "code",
   "execution_count": null,
   "metadata": {},
   "outputs": [],
   "source": [
    "chapter_content = []\n",
    "c=0\n",
    "cc=0\n",
    "\n",
    "for jf in json_files[:1000]:\n",
    "  with open(jf, 'r') as f:\n",
    "    data = json.load(f)\n",
    "\n",
    "    mission = data['mission']\n",
    "    content = data['content']\n",
    "    chapters = data['chapters']\n",
    "    print(mission)\n",
    "    chapters = [ch.strip() for ch in chapters if len(ch.strip())>2]\n",
    "\n",
    "    chapter_idx = []\n",
    "    for k,line in enumerate(content):\n",
    "        if any(((line[:-int(len(line)*0.3)] in ch) & (ch[:-int(len(ch)*0.3)] in line)) for ch in chapters):\n",
    "            chapter_idx.append(k)\n",
    "    chapter_idx.append(len(content))\n",
    "            \n",
    "    # if len(chapter_idx)!=len(chapters):\n",
    "    #    print(len(chapters),len(chapter_idx))\n",
    "    #    print(chapters)\n",
    "    #    print([content[idx] for idx in chapter_idx])\n",
    "    #    print()\n",
    "    #    c+=1\n",
    "    \n",
    "    # if chapter_idx[0] != 0:\n",
    "    #    cc=+1\n",
    "\n",
    "\n",
    "    for i in range(len(chapter_idx)-1):\n",
    "        paragraph = '\\n'.join(content[chapter_idx[i]+1:chapter_idx[i+1]])\n",
    "        num_tokens = len(bi_encoder.tokenizer.encode(paragraph))\n",
    "        n_chunks = num_tokens//512+1\n",
    "        chars_per_chunk = len(paragraph)//n_chunks\n",
    "        for chunk in range(n_chunks):\n",
    "           chapter_content.append(paragraph[chunk*chars_per_chunk:(chunk+1)*chars_per_chunk] + f'\\nSOURCE: {mission} chapter {content[chapter_idx[i]]}' )\n",
    "\n",
    "        #chapter_content.append('\\n'.join(content[chapter_idx[i]+1:chapter_idx[i+1]])+ f'\\nSOURCE: {mission} chapter {content[chapter_idx[i]]}')\n",
    "    #chapter_content.append('\\n'.join(content[chapter_idx[-1]+1:]))\n"
   ]
  },
  {
   "cell_type": "code",
   "execution_count": 118,
   "metadata": {},
   "outputs": [
    {
     "name": "stderr",
     "output_type": "stream",
     "text": [
      "/home/ubuntu/miniconda3/envs/openai/lib/python3.10/site-packages/tqdm/auto.py:21: TqdmWarning: IProgress not found. Please update jupyter and ipywidgets. See https://ipywidgets.readthedocs.io/en/stable/user_install.html\n",
      "  from .autonotebook import tqdm as notebook_tqdm\n"
     ]
    }
   ],
   "source": [
    "from sentence_transformers import SentenceTransformer, CrossEncoder, util\n",
    "import os\n",
    "import torch\n",
    "import json"
   ]
  },
  {
   "cell_type": "code",
   "execution_count": 119,
   "metadata": {},
   "outputs": [
    {
     "name": "stderr",
     "output_type": "stream",
     "text": [
      "/home/ubuntu/miniconda3/envs/openai/lib/python3.10/site-packages/torch/cuda/__init__.py:88: UserWarning: CUDA initialization: The NVIDIA driver on your system is too old (found version 10010). Please update your GPU driver by downloading and installing a new version from the URL: http://www.nvidia.com/Download/index.aspx Alternatively, go to: https://pytorch.org to install a PyTorch version that has been compiled with your version of the CUDA driver. (Triggered internally at ../c10/cuda/CUDAFunctions.cpp:109.)\n",
      "  return torch._C._cuda_getDeviceCount() > 0\n"
     ]
    }
   ],
   "source": [
    "bi_encoder = SentenceTransformer('multi-qa-MiniLM-L6-cos-v1')\n",
    "bi_encoder.max_seq_length = 512     #Truncate long passages to 256 tokens\n",
    "top_k = 32     "
   ]
  },
  {
   "cell_type": "code",
   "execution_count": 146,
   "metadata": {},
   "outputs": [],
   "source": [
    "# for p in chapter_content:\n",
    "#     try:bi_encoder.tokenizer.encode(p)\n",
    "#     except: print(p)\n",
    "t_len = [len(bi_encoder.tokenizer.encode(p)) for p in chapter_content]"
   ]
  },
  {
   "cell_type": "code",
   "execution_count": 154,
   "metadata": {},
   "outputs": [
    {
     "name": "stdout",
     "output_type": "stream",
     "text": [
      "Spacecraft     Launch    Sensor Complement    Ground Segment    Mission Status     References\n",
      "Kepler is part of NASA's Discovery Program designed to survey a portion of our region of the Milky Way to discover Earth-size exoplanets in or near habitable zones and estimate how many of the billions of stars in the Milky Way have such planets. The primary goal is to determine the frequency of Earth-size and larger planets in the HZ (Habitable Zone) of solar-like stars. The mission will monitor more than 100,000 stars for patterns of transits with a differential photometric precision of 20 ppm at V = 12 for a 6.5 hour transit. It will also provide asteroseismic results on several thousand dwarf stars. It is specifically designed to continuously observe a single FOV (Field of View) of > 100 deg 2 for 3.5 or more years.\n",
      "Finding extrasolar planets is extremely challenging and was not accomplished until 1995 when Mayor & Queloz, (1995) detected the first jovian-mass planet around normal stars. However, by making the observations from a spaceborne platform and using the transit method proposed by Borucki and Summers (1984), Earth-size planets, including those in the HZ, should be detected in substantial numbers.\n",
      "The scientific objective of the Kepler Mission is to explore the structure and diversity of planetary systems. This is achieved by surveying a large sample of stars to:\n",
      "• Determine the percentage of terrestrial and larger planets that are in or near the habitable zone of a wide variety of stars\n",
      "• Determine the distribution of sizes and shapes of the orbits of these planets\n",
      "• Estimate how many planets there are in multiple-star systems\n",
      "• Determine the variety of orbit sizes and planet reflectivities, sizes, masses and densities of short-period giant planets\n",
      "• Identify additional members of each discovered planetary system using other techniques\n",
      "• Determine the properties of those stars that harbor planetary systems.\n",
      "The Kepler Mission also supports the objectives of future NASA Origins theme missions SIM (Space Interferometry Mission) and TPF (Terrestrial Planet Finder),\n",
      "• By identifying the common stellar characteristics of host stars for future planet searches\n",
      "• By defining the volume\n",
      "SOURCE: Kepler Mission chapter Kepler Mission - Hunting for Exoplanets\n"
     ]
    }
   ],
   "source": [
    "print(chapter_content[131])"
   ]
  },
  {
   "cell_type": "code",
   "execution_count": 149,
   "metadata": {},
   "outputs": [
    {
     "data": {
      "text/plain": [
       "(array([1.3315e+04, 3.2480e+03, 5.9900e+02, 8.0000e+01, 1.0000e+00,\n",
       "        1.0000e+00, 0.0000e+00]),\n",
       " array([   0.,  512.,  550.,  600.,  700.,  800., 1000., 1536.]),\n",
       " <BarContainer object of 7 artists>)"
      ]
     },
     "execution_count": 149,
     "metadata": {},
     "output_type": "execute_result"
    },
    {
     "data": {
      "image/png": "[encoded data removed]",
      "text/plain": [
       "<Figure size 640x480 with 1 Axes>"
      ]
     },
     "metadata": {},
     "output_type": "display_data"
    }
   ],
   "source": [
    "plt.hist(t_len, bins=[0,512,550,600,700,800,1000,1536])"
   ]
  },
  {
   "cell_type": "code",
   "execution_count": 156,
   "metadata": {},
   "outputs": [
    {
     "name": "stderr",
     "output_type": "stream",
     "text": [
      "Batches: 100%|██████████| 63/63 [09:35<00:00,  9.13s/it] \n"
     ]
    }
   ],
   "source": [
    "corpus_embeddings = bi_encoder.encode(chapter_content[:2000], convert_to_tensor=True, show_progress_bar=True)\n"
   ]
  },
  {
   "cell_type": "code",
   "execution_count": 157,
   "metadata": {},
   "outputs": [],
   "source": [
    "np.save('content_embeddings', corpus_embeddings)"
   ]
  },
  {
   "cell_type": "code",
   "execution_count": 159,
   "metadata": {},
   "outputs": [],
   "source": [
    "import pickle\n",
    "with open(\"chapter_content\", \"wb\") as fp:   #Pickling\n",
    "    pickle.dump(chapter_content[:2000], fp)"
   ]
  },
  {
   "cell_type": "code",
   "execution_count": null,
   "metadata": {},
   "outputs": [],
   "source": []
  }
 ],
 "metadata": {
  "kernelspec": {
   "display_name": "openai",
   "language": "python",
   "name": "python3"
  },
  "language_info": {
   "codemirror_mode": {
    "name": "ipython",
    "version": 3
   },
   "file_extension": ".py",
   "mimetype": "text/x-python",
   "name": "python",
   "nbconvert_exporter": "python",
   "pygments_lexer": "ipython3",
   "version": "3.9.0"
  },
  "orig_nbformat": 4,
  "vscode": {
   "interpreter": {
    "hash": "de5c0239a2194a68dc2d9faf4f20b8a0a04eae3ac50de3f9ffce9743c4768f1d"
   }
  }
 },
 "nbformat": 4,
 "nbformat_minor": 2
}
